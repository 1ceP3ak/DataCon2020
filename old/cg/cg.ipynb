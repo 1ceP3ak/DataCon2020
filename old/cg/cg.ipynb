{
 "cells": [
  {
   "cell_type": "code",
   "execution_count": 1,
   "metadata": {},
   "outputs": [],
   "source": [
    "import os\n",
    "import numpy\n",
    "import time\n",
    "import signal\n",
    "import threading\n",
    "import subprocess\n",
    "from PIL import Image\n",
    "from tqdm import tqdm\n",
    "import numpy as np\n",
    "import pandas as pd\n",
    "import matplotlib.pyplot as plt\n",
    "import pickle\n",
    "\n",
    "from sklearn.metrics import accuracy_score, f1_score, precision_score, recall_score\n",
    "from sklearn.model_selection import train_test_split\n",
    "\n",
    "import tensorflow as tf\n",
    "from tensorflow.keras import layers, models\n",
    "\n",
    "from funtion_name import get_funtion\n",
    "\n",
    "from sklearn.feature_extraction.text import TfidfVectorizer\n",
    "\n",
    "%matplotlib inline"
   ]
  },
  {
   "cell_type": "markdown",
   "metadata": {},
   "source": [
    "## 读取数据地址"
   ]
  },
  {
   "cell_type": "code",
   "execution_count": 2,
   "metadata": {},
   "outputs": [],
   "source": [
    "data_dir = \"../data_rec_mzpe\""
   ]
  },
  {
   "cell_type": "code",
   "execution_count": 3,
   "metadata": {},
   "outputs": [],
   "source": [
    "# train_black_path = []\n",
    "# for parent, dirnames, filenames in os.walk(os.path.join(data_dir, \"train\")):\n",
    "#     if \"black\" in parent:\n",
    "#         for filename in filenames:\n",
    "#             fp = os.path.join(parent, filename)\n",
    "#             train_black_path.append(os.path.abspath(fp))\n",
    "\n",
    "# train_white_path = []\n",
    "# for parent, dirnames, filenames in os.walk(os.path.join(data_dir, \"train\")):\n",
    "#     if \"white\" in parent:\n",
    "#         for filename in filenames:\n",
    "#             fp = os.path.join(parent, filename)\n",
    "#             train_white_path.append(os.path.abspath(fp))\n",
    "\n",
    "# test_path = []\n",
    "# for parent, dirnames, filenames in os.walk(os.path.join(data_dir, \"test\")):\n",
    "#     for filename in filenames:\n",
    "#         fp = os.path.join(parent, filename)\n",
    "#         test_path.append(os.path.abspath(fp))\n",
    "\n",
    "real_path_new = []\n",
    "for parent, dirnames, filenames in os.walk(os.path.join(data_dir, \"real\")):\n",
    "    if \"3_data_real\" in parent:\n",
    "        for filename in filenames:\n",
    "            fp = os.path.join(parent, filename)\n",
    "            real_path_new.append(os.path.abspath(fp))"
   ]
  },
  {
   "cell_type": "code",
   "execution_count": 4,
   "metadata": {},
   "outputs": [
    {
     "data": {
      "text/plain": [
       "3010"
      ]
     },
     "execution_count": 4,
     "metadata": {},
     "output_type": "execute_result"
    }
   ],
   "source": [
    "len(real_path_new)"
   ]
  },
  {
   "cell_type": "code",
   "execution_count": 3,
   "metadata": {},
   "outputs": [],
   "source": [
    "# with open(\"train_black_path.pkl\", 'wb') as f:\n",
    "#     pickle.dump(train_black_path, f)\n",
    "\n",
    "# with open(\"train_white_path.pkl\", 'wb') as f:\n",
    "#     pickle.dump(train_white_path, f)\n",
    "\n",
    "# with open(\"test_path.pkl\", 'wb') as f:\n",
    "#     pickle.dump(test_path, f)\n",
    "\n",
    "# with open(\"real_path.pkl\", 'wb') as f:\n",
    "#     pickle.dump(real_path, f)\n",
    "\n",
    "with open(\"train_black_path.pkl\", 'rb') as f:\n",
    "    train_black_path = pickle.load(f)\n",
    "\n",
    "with open(\"train_white_path.pkl\", 'rb') as f:\n",
    "    train_white_path = pickle.load(f)\n",
    "\n",
    "with open(\"test_path.pkl\", 'rb') as f:\n",
    "    test_path = pickle.load(f)\n",
    "\n",
    "with open(\"real_path.pkl\", 'rb') as f:\n",
    "    real_path = pickle.load(f)"
   ]
  },
  {
   "cell_type": "code",
   "execution_count": 6,
   "metadata": {},
   "outputs": [],
   "source": [
    "# real_path += real_path_new"
   ]
  },
  {
   "cell_type": "code",
   "execution_count": 11,
   "metadata": {},
   "outputs": [],
   "source": [
    "# with open(\"real_path.pkl\", 'wb') as f:\n",
    "#     pickle.dump(real_path, f)"
   ]
  },
  {
   "cell_type": "code",
   "execution_count": 4,
   "metadata": {},
   "outputs": [
    {
     "data": {
      "text/plain": [
       "9017"
      ]
     },
     "execution_count": 4,
     "metadata": {},
     "output_type": "execute_result"
    }
   ],
   "source": [
    "len(real_path)"
   ]
  },
  {
   "cell_type": "markdown",
   "metadata": {},
   "source": [
    "拷贝一份"
   ]
  },
  {
   "cell_type": "code",
   "execution_count": 5,
   "metadata": {},
   "outputs": [],
   "source": [
    "# if not os.path.exists(\"cfg\"):\n",
    "#     os.makedirs(\"cfg/black\")\n",
    "#     os.makedirs(\"cfg/white\")\n",
    "#     os.makedirs(\"cfg/test\")\n",
    "#     os.makedirs(\"cfg/real\")\n",
    "\n",
    "# for pt in train_black_path:\n",
    "#     os.system(\"cp {0} {1}\".format(pt, \"cfg/black/\"))\n",
    "# for pt in train_white_path:\n",
    "#     os.system(\"cp {0} {1}\".format(pt, \"cfg/white/\"))\n",
    "# for pt in test_path:\n",
    "#     os.system(\"cp {0} {1}\".format(pt, \"cfg/test/\"))\n",
    "# for pt in real_path[6007:]:\n",
    "#     os.system(\"cp {0} {1}\".format(pt, \"cfg/real/\"))\n",
    "\n",
    "train_black_path = [pt.replace(\"data_rec_mzpe/train/1_2000_\", \"jupyterlab/cfg/\") for pt in train_black_path]\n",
    "train_white_path = [pt.replace(\"data_rec_mzpe/train/1_4000_\", \"jupyterlab/cfg/\") for pt in train_white_path]\n",
    "test_path = [pt.replace(\"data_rec_mzpe/test/data\", \"jupyterlab/cfg/test\") for pt in test_path]\n",
    "real_path = [pt.replace(\"data_rec_mzpe/real/1_data_real\", \"jupyterlab/cfg/real\") for pt in real_path]\n",
    "real_path = [pt.replace(\"data_rec_mzpe/real/2_data_real\", \"jupyterlab/cfg/real\") for pt in real_path]\n",
    "real_path = [pt.replace(\"data_rec_mzpe/real/3_data_real\", \"jupyterlab/cfg/real\") for pt in real_path]"
   ]
  },
  {
   "cell_type": "code",
   "execution_count": 14,
   "metadata": {},
   "outputs": [],
   "source": [
    "empty = threading.Semaphore(value=20)\n",
    "def convertToGdl(fp):\n",
    "    ida = \"/home/g3/yuri/idapro-7.4/idat64\"\n",
    "    idc = \"/home/g3/yuri/idapro-7.4/idc/gen_fcg.idc\"\n",
    "    cmd = [ida, \"-A\", \"-S{0}\".format(idc), fp]\n",
    "    p = subprocess.Popen(cmd,\n",
    "                         stdout=subprocess.PIPE,\n",
    "                         stderr=subprocess.PIPE,\n",
    "                         start_new_session=True,\n",
    "                         shell=False,\n",
    "                         close_fds=True)\n",
    "    while True:\n",
    "        if p.poll() is not None:\n",
    "            break\n",
    "        time.sleep(1)\n",
    "    os.remove(fp)\n",
    "    if os.path.exists(fp+'.i64'):\n",
    "        os.remove(fp+'.i64')\n",
    "    empty.release()"
   ]
  },
  {
   "cell_type": "code",
   "execution_count": 15,
   "metadata": {},
   "outputs": [
    {
     "name": "stderr",
     "output_type": "stream",
     "text": [
      "gdl_real: 100%|█████████████████████████████| 3010/3010 [15:27<00:00,  3.24it/s]\n"
     ]
    }
   ],
   "source": [
    "# with tqdm(total=6000, ncols=80, desc=\"gdl\") as pbar:\n",
    "#     for fp in train_black_path:\n",
    "#         empty.acquire()\n",
    "#         t = threading.Thread(target=convertToGdl, args=(fp, ), daemon=True)\n",
    "#         t.start()\n",
    "#         pbar.update(1)\n",
    "#     for fp in train_white_path:\n",
    "#         empty.acquire()\n",
    "#         t = threading.Thread(target=convertToGdl, args=(fp, ), daemon=True)\n",
    "#         t.start()\n",
    "#         pbar.update(1)\n",
    "\n",
    "# with tqdm(total=6000, ncols=80, desc=\"gdl_test\") as pbar:\n",
    "#     for fp in test_path:\n",
    "#         empty.acquire()\n",
    "#         t = threading.Thread(target=convertToGdl, args=(fp, ), daemon=True)\n",
    "#         t.start()\n",
    "#         pbar.update(1)\n",
    "\n",
    "with tqdm(total=len(real_path[6007:]), ncols=80, desc=\"gdl_real\") as pbar:\n",
    "    for fp in real_path[6007:]:\n",
    "        empty.acquire()\n",
    "        t = threading.Thread(target=convertToGdl, args=(fp, ), daemon=True)\n",
    "        t.start()\n",
    "        pbar.update(1)"
   ]
  },
  {
   "cell_type": "markdown",
   "metadata": {},
   "source": [
    "## 提取函数名"
   ]
  },
  {
   "cell_type": "code",
   "execution_count": 7,
   "metadata": {},
   "outputs": [],
   "source": [
    "# train_fn, train_label = [], []\n",
    "\n",
    "# test_data_fn = []\n",
    "\n",
    "# with tqdm(total=6000*2, ncols=80, desc=\"fn\") as pbar:\n",
    "#     for fp in train_black_path:\n",
    "#         pbar.update(1)\n",
    "#         train_label.append(1)\n",
    "#         if not os.path.exists(fp+'.gdl'):\n",
    "#             train_fn.append(b\"\")\n",
    "#             continue\n",
    "#         fun_list = get_funtion(fp+'.gdl')\n",
    "#         new_function_name = []\n",
    "#         for fl in fun_list:\n",
    "#             fn = fl[0]\n",
    "#             if b\"sub\" not in fn and b\"unknow\" not in fn and b\"@\" not in fn:\n",
    "#                 new_function_name.append(fn + (b' %d' % fl[2]))\n",
    "#         train_fn.append(b\" \".join(new_function_name))\n",
    "#     for fp in train_white_path:\n",
    "#         pbar.update(1)\n",
    "#         train_label.append(0)\n",
    "#         if not os.path.exists(fp+'.gdl'):\n",
    "#             train_fn.append(b\"\")\n",
    "#             continue\n",
    "#         fun_list = get_funtion(fp+'.gdl')\n",
    "#         new_function_name = []\n",
    "#         for fl in fun_list:\n",
    "#             fn = fl[0]\n",
    "#             if b\"sub\" not in fn and b\"unknow\" not in fn and b\"@\" not in fn:\n",
    "#                 new_function_name.append(fn + (b' %d' % fl[2]))\n",
    "#         train_fn.append(b\" \".join(new_function_name))\n",
    "#     for fp in test_path:\n",
    "#         pbar.update(1)\n",
    "#         if not os.path.exists(fp+'.gdl'):\n",
    "#             test_data_fn.append(b\"\")\n",
    "#             continue\n",
    "#         fun_list = get_funtion(fp+'.gdl')\n",
    "#         new_function_name = []\n",
    "#         for fl in fun_list:\n",
    "#             fn = fl[0]\n",
    "#             if b\"sub\" not in fn and b\"unknow\" not in fn and b\"@\" not in fn:\n",
    "#                 new_function_name.append(fn + (b' %d' % fl[2]))\n",
    "#         test_data_fn.append(b\" \".join(new_function_name))"
   ]
  },
  {
   "cell_type": "code",
   "execution_count": 16,
   "metadata": {},
   "outputs": [
    {
     "name": "stderr",
     "output_type": "stream",
     "text": [
      "gdl_real: 100%|█████████████████████████████| 3010/3010 [00:34<00:00, 88.27it/s]\n"
     ]
    }
   ],
   "source": [
    "real_data_fn_new = []\n",
    "with tqdm(total=len(real_path[6007:]), ncols=80, desc=\"gdl_real\") as pbar:\n",
    "    for fp in real_path[6007:]:\n",
    "        pbar.update(1)\n",
    "        if not os.path.exists(fp+'.gdl'):\n",
    "            real_data_fn_new.append(b\"\")\n",
    "            continue\n",
    "        fun_list = get_funtion(fp+'.gdl')\n",
    "        new_function_name = []\n",
    "        for fl in fun_list:\n",
    "            fn = fl[0]\n",
    "            if b\"sub\" not in fn and b\"unknow\" not in fn and b\"@\" not in fn:\n",
    "                new_function_name.append(fn + (b' %d' % fl[2]))\n",
    "        real_data_fn_new.append(b\" \".join(new_function_name))"
   ]
  },
  {
   "cell_type": "code",
   "execution_count": 6,
   "metadata": {},
   "outputs": [],
   "source": [
    "# with open(\"cfg/train_fn.pkl\", 'wb') as f:\n",
    "#     pickle.dump(train_fn, f)\n",
    "\n",
    "# with open(\"cfg/train_label.pkl\", 'wb') as f:\n",
    "#     pickle.dump(train_label, f)\n",
    "\n",
    "# with open(\"cfg/test_data_fn.pkl\", 'wb') as f:\n",
    "#     pickle.dump(test_data_fn, f)\n",
    "\n",
    "# with open(\"cfg/real_data_fn.pkl\", 'wb') as f:\n",
    "#     pickle.dump(real_data_fn, f)\n",
    "\n",
    "with open(\"cfg/train_fn.pkl\", 'rb') as f:\n",
    "    train_fn = pickle.load(f)\n",
    "\n",
    "with open(\"cfg/train_label.pkl\", 'rb') as f:\n",
    "    train_label = pickle.load(f)\n",
    "\n",
    "with open(\"cfg/test_data_fn.pkl\", 'rb') as f:\n",
    "    test_data_fn = pickle.load(f)\n",
    "\n",
    "with open(\"cfg/real_data_fn.pkl\", 'rb') as f:\n",
    "    real_data_fn = pickle.load(f)"
   ]
  },
  {
   "cell_type": "code",
   "execution_count": null,
   "metadata": {},
   "outputs": [],
   "source": [
    "real_data_fn += real_data_fn_new\n",
    "with open(\"cfg/real_data_fn.pkl\", 'wb') as f:\n",
    "    pickle.dump(real_data_fn, f)"
   ]
  },
  {
   "cell_type": "code",
   "execution_count": 19,
   "metadata": {},
   "outputs": [
    {
     "data": {
      "text/plain": [
       "(6000, 6000, 6000, 9017)"
      ]
     },
     "execution_count": 19,
     "metadata": {},
     "output_type": "execute_result"
    }
   ],
   "source": [
    "len(train_fn), len(train_label), len(test_data_fn), len(real_data_fn)"
   ]
  },
  {
   "cell_type": "markdown",
   "metadata": {},
   "source": [
    "## TF-IDF"
   ]
  },
  {
   "cell_type": "code",
   "execution_count": 17,
   "metadata": {},
   "outputs": [],
   "source": [
    "# vectorizer = TfidfVectorizer(ngram_range=(1, 5), min_df=3, max_df=0.9)"
   ]
  },
  {
   "cell_type": "code",
   "execution_count": 20,
   "metadata": {},
   "outputs": [],
   "source": [
    "# with open(\"cfg/vectorizer.pkl\", 'wb') as f:\n",
    "#     pickle.dump(vectorizer, f)\n",
    "\n",
    "with open(\"cfg/vectorizer.pkl\", 'rb') as f:\n",
    "    vectorizer = pickle.load(f)"
   ]
  },
  {
   "cell_type": "code",
   "execution_count": 21,
   "metadata": {},
   "outputs": [],
   "source": [
    "train_fn_tfidf_features = vectorizer.transform(train_fn)\n",
    "test_fn_tfidf_features = vectorizer.transform(test_data_fn)\n",
    "real_fn_tfidf_features = vectorizer.transform(real_data_fn)"
   ]
  },
  {
   "cell_type": "code",
   "execution_count": 22,
   "metadata": {},
   "outputs": [],
   "source": [
    "# with open(\"cfg/train_fn_tfidf_features.pkl\", \"wb\") as fp:\n",
    "#     pickle.dump(train_fn_tfidf_features, fp)\n",
    "\n",
    "# with open(\"cfg/train_fn_tfidf_labels.pkl\", \"wb\") as fp:\n",
    "#     pickle.dump(train_label, fp)\n",
    "\n",
    "# with open(\"cfg/test_fn_tfidf_features.pkl\", \"wb\") as fp:\n",
    "#     pickle.dump(test_fn_tfidf_features, fp)\n",
    "\n",
    "with open(\"cfg/real_fn_tfidf_features.pkl\", \"wb\") as fp:\n",
    "    pickle.dump(real_fn_tfidf_features, fp)\n",
    "\n",
    "with open(\"cfg/train_fn_tfidf_features.pkl\", \"rb\") as fp:\n",
    "    train_fn_tfidf_features = pickle.load(fp)\n",
    "\n",
    "with open(\"cfg/train_fn_tfidf_labels.pkl\", \"rb\") as fp:\n",
    "    train_label = pickle.load(fp)\n",
    "    \n",
    "with open(\"cfg/test_fn_tfidf_features.pkl\", \"rb\") as fp:\n",
    "    test_tfidf_features = pickle.load(fp)\n",
    "\n",
    "with open(\"cfg/real_fn_tfidf_features.pkl\", \"rb\") as fp:\n",
    "    real_fn_tfidf_features = pickle.load(fp)"
   ]
  },
  {
   "cell_type": "code",
   "execution_count": 23,
   "metadata": {},
   "outputs": [
    {
     "data": {
      "text/plain": [
       "((6000, 115680), (6000, 115680), (9017, 115680))"
      ]
     },
     "execution_count": 23,
     "metadata": {},
     "output_type": "execute_result"
    }
   ],
   "source": [
    "train_fn_tfidf_features.shape, test_tfidf_features.shape, real_fn_tfidf_features.shape"
   ]
  },
  {
   "cell_type": "markdown",
   "metadata": {},
   "source": [
    "## 超参数"
   ]
  },
  {
   "cell_type": "code",
   "execution_count": 8,
   "metadata": {},
   "outputs": [],
   "source": [
    "TRAIN_SIZE = 0.8\n",
    "VAL_SIZE = 0.1\n",
    "TEST_SIZE = 0.1\n",
    "SEED = 4396\n",
    "\n",
    "MAXLEN = 5000\n",
    "BATCH_SIZE = 16\n",
    "EPOCH = 300\n",
    "SHUFFLE = False\n",
    "CLASSES = 2\n",
    "\n",
    "LR = 5e-5"
   ]
  },
  {
   "cell_type": "markdown",
   "metadata": {},
   "source": [
    "## TEXT-CNN"
   ]
  },
  {
   "cell_type": "code",
   "execution_count": 9,
   "metadata": {},
   "outputs": [],
   "source": [
    "train_fn = [fn.split(b' ') for fn in train_fn]\n",
    "test_data_fn = [fn.split(b' ') for fn in test_data_fn]\n",
    "\n",
    "# tokenizer = tf.keras.preprocessing.text.Tokenizer(num_words=20000)\n",
    "# tokenizer.fit_on_texts(train_fn)\n",
    "\n",
    "# with open(\"cfg/tokenizer.pkl\", 'wb') as f:\n",
    "#     pickle.dump(tokenizer, f)\n",
    "\n",
    "with open(\"cfg/tokenizer.pkl\", 'rb') as f:\n",
    "    tokenizer = pickle.load(f)\n",
    "\n",
    "word_index = tokenizer.word_index\n",
    "WORD_SIZE = len(word_index) + 1\n",
    "\n",
    "\n",
    "train_fn = tokenizer.texts_to_sequences(train_fn)\n",
    "train_fn = tf.keras.preprocessing.sequence.pad_sequences(train_fn, maxlen=MAXLEN)\n",
    "\n",
    "test_data_fn = tokenizer.texts_to_sequences(test_data_fn)\n",
    "test_data_fn = tf.keras.preprocessing.sequence.pad_sequences(test_data_fn, maxlen=MAXLEN)"
   ]
  },
  {
   "cell_type": "markdown",
   "metadata": {},
   "source": [
    "## 打乱顺序"
   ]
  },
  {
   "cell_type": "code",
   "execution_count": 8,
   "metadata": {},
   "outputs": [],
   "source": [
    "np.random.seed(SEED)\n",
    "tf.random.set_seed(SEED)\n",
    "\n",
    "features, labels = np.array(train_fn), np.array(train_label)\n",
    "index = list(range(len(train_label)))\n",
    "np.random.shuffle(index)\n",
    "features = features[index]\n",
    "labels = labels[index]"
   ]
  },
  {
   "cell_type": "markdown",
   "metadata": {},
   "source": [
    "## 划分数据集"
   ]
  },
  {
   "cell_type": "code",
   "execution_count": 18,
   "metadata": {},
   "outputs": [],
   "source": [
    "# 训练: 验证: 测试 = 8: 1: 1\n",
    "\n",
    "train_features, test_features, train_label, test_label = train_test_split(\n",
    "    features,\n",
    "    labels,\n",
    "    test_size=TEST_SIZE,\n",
    "    stratify=labels,\n",
    "    random_state=SEED)\n",
    "train_features, valid_features, train_label, valid_label = train_test_split(\n",
    "    train_features,\n",
    "    train_label,\n",
    "    test_size=VAL_SIZE,\n",
    "    stratify=train_label,\n",
    "    random_state=SEED)"
   ]
  },
  {
   "cell_type": "markdown",
   "metadata": {},
   "source": [
    "## 加载Dataset"
   ]
  },
  {
   "cell_type": "code",
   "execution_count": 19,
   "metadata": {},
   "outputs": [],
   "source": [
    "train_ds = tf.data.Dataset.from_tensor_slices((train_features, train_label)) \\\n",
    "                            .batch(BATCH_SIZE) \\\n",
    "                            .prefetch(buffer_size = tf.data.experimental.AUTOTUNE)\n",
    "\n",
    "valid_ds = tf.data.Dataset.from_tensor_slices((valid_features, valid_label)) \\\n",
    "                            .batch(BATCH_SIZE) \\\n",
    "                            .prefetch(buffer_size = tf.data.experimental.AUTOTUNE)\n",
    "\n",
    "test_ds = tf.data.Dataset.from_tensor_slices((test_features, test_label)) \\\n",
    "                            .batch(BATCH_SIZE) \\\n",
    "                            .prefetch(buffer_size = tf.data.experimental.AUTOTUNE)"
   ]
  },
  {
   "cell_type": "markdown",
   "metadata": {},
   "source": [
    "## 构建模型"
   ]
  },
  {
   "cell_type": "code",
   "execution_count": 20,
   "metadata": {},
   "outputs": [],
   "source": [
    "inputs = layers.Input(shape=(MAXLEN, ), dtype='float32')\n",
    "embedding_2 = layers.Embedding(WORD_SIZE, 64)(inputs)\n",
    "Conv_2 = layers.Conv1D(100, 2, padding='same', activation='relu')(embedding_2)\n",
    "max_pool_2_1 = layers.MaxPooling1D(2)(Conv_2)\n",
    "conv_2_2 = layers.Conv1D(200, 2, padding=\"same\", activation='relu')(max_pool_2_1)\n",
    "max_pool_2_2 = layers.MaxPooling1D(2)(conv_2_2)\n",
    "masking_2 = layers.Masking(0.)(max_pool_2_2)\n",
    "lstm_2 = layers.LSTM(100, return_sequences=False)(masking_2)\n",
    "# Flat = layers.Flatten()(Conv_2)\n",
    "Dense_1 = layers.Dense(500, activation='relu')(lstm_2)\n",
    "dropout = layers.Dropout(0.5)(Dense_1)\n",
    "outputs = layers.Dense(1, activation='sigmoid')(dropout)\n",
    "\n",
    "model = models.Model(inputs=inputs, outputs=outputs)"
   ]
  },
  {
   "cell_type": "code",
   "execution_count": 21,
   "metadata": {},
   "outputs": [],
   "source": [
    "# 自定义评估指标\n",
    "def score(y_true, y_pred):\n",
    "    y_true = tf.cast(tf.reshape(y_true, (-1,)), tf.int32)\n",
    "    y_pred = tf.cast(tf.math.round(tf.reshape(y_pred, (-1,))), tf.int32)\n",
    "\n",
    "    tp = tf.reduce_sum(tf.cast(tf.logical_and(tf.equal(y_true, 1), tf.equal(y_pred, 1)), dtype=tf.float32))\n",
    "    fn = tf.reduce_sum(tf.cast(tf.logical_and(tf.equal(y_true, 1), tf.equal(y_pred, 0)), dtype=tf.float32))\n",
    "    fp = tf.reduce_sum(tf.cast(tf.logical_and(tf.equal(y_true, 0), tf.equal(y_pred, 1)), dtype=tf.float32))\n",
    "    tn = tf.reduce_sum(tf.cast(tf.logical_and(tf.equal(y_true, 0), tf.equal(y_pred, 0)), dtype=tf.float32))\n",
    "\n",
    "    result = (tp/(tp+fn)) - 0.9*(fp/(fp+tn))\n",
    "    \n",
    "    return result"
   ]
  },
  {
   "cell_type": "code",
   "execution_count": 22,
   "metadata": {},
   "outputs": [],
   "source": [
    "model.compile(optimizer=tf.keras.optimizers.Nadam(LR),\n",
    "               loss='binary_crossentropy',\n",
    "               metrics=['accuracy'])"
   ]
  },
  {
   "cell_type": "code",
   "execution_count": 23,
   "metadata": {},
   "outputs": [
    {
     "name": "stdout",
     "output_type": "stream",
     "text": [
      "Model: \"model\"\n",
      "_________________________________________________________________\n",
      "Layer (type)                 Output Shape              Param #   \n",
      "=================================================================\n",
      "input_1 (InputLayer)         [(None, 5000)]            0         \n",
      "_________________________________________________________________\n",
      "embedding (Embedding)        (None, 5000, 64)          2896448   \n",
      "_________________________________________________________________\n",
      "conv1d (Conv1D)              (None, 5000, 100)         12900     \n",
      "_________________________________________________________________\n",
      "max_pooling1d (MaxPooling1D) (None, 2500, 100)         0         \n",
      "_________________________________________________________________\n",
      "conv1d_1 (Conv1D)            (None, 2500, 200)         40200     \n",
      "_________________________________________________________________\n",
      "max_pooling1d_1 (MaxPooling1 (None, 1250, 200)         0         \n",
      "_________________________________________________________________\n",
      "masking (Masking)            (None, 1250, 200)         0         \n",
      "_________________________________________________________________\n",
      "lstm (LSTM)                  (None, 100)               120400    \n",
      "_________________________________________________________________\n",
      "dense (Dense)                (None, 500)               50500     \n",
      "_________________________________________________________________\n",
      "dropout (Dropout)            (None, 500)               0         \n",
      "_________________________________________________________________\n",
      "dense_1 (Dense)              (None, 1)                 501       \n",
      "=================================================================\n",
      "Total params: 3,120,949\n",
      "Trainable params: 3,120,949\n",
      "Non-trainable params: 0\n",
      "_________________________________________________________________\n"
     ]
    }
   ],
   "source": [
    "model.summary()"
   ]
  },
  {
   "cell_type": "markdown",
   "metadata": {},
   "source": [
    "## 训练"
   ]
  },
  {
   "cell_type": "code",
   "execution_count": 24,
   "metadata": {},
   "outputs": [
    {
     "name": "stdout",
     "output_type": "stream",
     "text": [
      "Epoch 1/300\n",
      "304/304 [==============================] - 31s 103ms/step - loss: 0.3439 - accuracy: 0.9126 - val_loss: 0.1317 - val_accuracy: 0.9685 - lr: 5.0000e-05\n",
      "Epoch 2/300\n",
      "304/304 [==============================] - 30s 98ms/step - loss: 0.1487 - accuracy: 0.9615 - val_loss: 0.1223 - val_accuracy: 0.9704 - lr: 5.0000e-05\n",
      "Epoch 3/300\n",
      "304/304 [==============================] - 29s 97ms/step - loss: 0.1393 - accuracy: 0.9630 - val_loss: 0.1083 - val_accuracy: 0.9722 - lr: 5.0000e-05\n",
      "Epoch 4/300\n",
      "304/304 [==============================] - 30s 97ms/step - loss: 0.1259 - accuracy: 0.9665 - val_loss: 0.0995 - val_accuracy: 0.9759 - lr: 5.0000e-05\n",
      "Epoch 5/300\n",
      "304/304 [==============================] - 30s 97ms/step - loss: 0.1199 - accuracy: 0.9675 - val_loss: 0.0987 - val_accuracy: 0.9741 - lr: 5.0000e-05\n",
      "Epoch 6/300\n",
      "304/304 [==============================] - 29s 97ms/step - loss: 0.1213 - accuracy: 0.9677 - val_loss: 0.0988 - val_accuracy: 0.9741 - lr: 5.0000e-05\n",
      "Epoch 7/300\n",
      "304/304 [==============================] - 30s 97ms/step - loss: 0.1157 - accuracy: 0.9687 - val_loss: 0.0944 - val_accuracy: 0.9759 - lr: 5.0000e-05\n",
      "Epoch 8/300\n",
      "304/304 [==============================] - 30s 97ms/step - loss: 0.1128 - accuracy: 0.9685 - val_loss: 0.0920 - val_accuracy: 0.9778 - lr: 5.0000e-05\n",
      "Epoch 9/300\n",
      "304/304 [==============================] - 30s 97ms/step - loss: 0.1078 - accuracy: 0.9716 - val_loss: 0.0885 - val_accuracy: 0.9796 - lr: 5.0000e-05\n",
      "Epoch 10/300\n",
      "304/304 [==============================] - 29s 97ms/step - loss: 0.1049 - accuracy: 0.9735 - val_loss: 0.0940 - val_accuracy: 0.9778 - lr: 5.0000e-05\n",
      "Epoch 11/300\n",
      "304/304 [==============================] - 29s 97ms/step - loss: 0.1017 - accuracy: 0.9735 - val_loss: 0.0937 - val_accuracy: 0.9759 - lr: 5.0000e-05\n",
      "Epoch 12/300\n",
      "304/304 [==============================] - 29s 97ms/step - loss: 0.1043 - accuracy: 0.9718 - val_loss: 0.1027 - val_accuracy: 0.9685 - lr: 5.0000e-05\n",
      "Epoch 13/300\n",
      "304/304 [==============================] - 29s 97ms/step - loss: 0.0968 - accuracy: 0.9753 - val_loss: 0.0915 - val_accuracy: 0.9759 - lr: 5.0000e-05\n",
      "Epoch 14/300\n",
      "304/304 [==============================] - 29s 97ms/step - loss: 0.0930 - accuracy: 0.9759 - val_loss: 0.0919 - val_accuracy: 0.9741 - lr: 2.5000e-05\n",
      "Epoch 15/300\n",
      "304/304 [==============================] - 29s 97ms/step - loss: 0.0925 - accuracy: 0.9761 - val_loss: 0.0906 - val_accuracy: 0.9759 - lr: 2.5000e-05\n"
     ]
    }
   ],
   "source": [
    "history = model.fit(\n",
    "        train_ds,\n",
    "        validation_data=valid_ds,\n",
    "        # class_weight=class_weight_dict,\n",
    "        epochs=EPOCH,\n",
    "        workers=4,\n",
    "        callbacks=[tf.keras.callbacks.EarlyStopping(monitor='val_loss', patience=6, min_delta=1e-4, mode='min'),\n",
    "                  tf.keras.callbacks.ReduceLROnPlateau(monitor='val_loss', patience=4, factor=0.5, verbose=0)])"
   ]
  },
  {
   "cell_type": "code",
   "execution_count": 25,
   "metadata": {},
   "outputs": [],
   "source": [
    "dfhistory = pd.DataFrame(history.history)"
   ]
  },
  {
   "cell_type": "code",
   "execution_count": 26,
   "metadata": {},
   "outputs": [
    {
     "data": {
      "text/plain": [
       "<matplotlib.axes._subplots.AxesSubplot at 0x7f01a3bb9450>"
      ]
     },
     "execution_count": 26,
     "metadata": {},
     "output_type": "execute_result"
    },
    {
     "data": {
      "image/png": "[encoded data removed]",
      "text/plain": [
       "<Figure size 432x288 with 1 Axes>"
      ]
     },
     "metadata": {
      "needs_background": "light"
     },
     "output_type": "display_data"
    }
   ],
   "source": [
    "dfhistory[['val_loss', 'loss']].plot()"
   ]
  },
  {
   "cell_type": "code",
   "execution_count": 27,
   "metadata": {},
   "outputs": [
    {
     "data": {
      "text/plain": [
       "<matplotlib.axes._subplots.AxesSubplot at 0x7f01a38422d0>"
      ]
     },
     "execution_count": 27,
     "metadata": {},
     "output_type": "execute_result"
    },
    {
     "data": {
      "image/png": "[encoded data removed]",
      "text/plain": [
       "<Figure size 432x288 with 1 Axes>"
      ]
     },
     "metadata": {
      "needs_background": "light"
     },
     "output_type": "display_data"
    }
   ],
   "source": [
    "dfhistory[['val_accuracy', 'accuracy']].plot()"
   ]
  },
  {
   "cell_type": "code",
   "execution_count": 28,
   "metadata": {},
   "outputs": [],
   "source": [
    "# dfhistory[['val_score', 'score']].plot()"
   ]
  },
  {
   "cell_type": "markdown",
   "metadata": {},
   "source": [
    "## 测试集合"
   ]
  },
  {
   "cell_type": "code",
   "execution_count": 29,
   "metadata": {},
   "outputs": [
    {
     "name": "stdout",
     "output_type": "stream",
     "text": [
      "38/38 [==============================] - 1s 34ms/step - loss: 0.0716 - accuracy: 0.9833\n"
     ]
    }
   ],
   "source": [
    "predict = model.evaluate(test_ds)"
   ]
  },
  {
   "cell_type": "code",
   "execution_count": 30,
   "metadata": {},
   "outputs": [],
   "source": [
    "# model.save('./cfg/cfg_0.9833.h5', save_format=\"tf\")"
   ]
  },
  {
   "cell_type": "markdown",
   "metadata": {},
   "source": [
    "## 测试数据"
   ]
  },
  {
   "cell_type": "code",
   "execution_count": 13,
   "metadata": {},
   "outputs": [],
   "source": [
    "model = tf.keras.models.load_model('./cfg/cfg_0.9833.h5')"
   ]
  },
  {
   "cell_type": "code",
   "execution_count": 38,
   "metadata": {},
   "outputs": [],
   "source": [
    "predict_test = model.predict(test_data_fn)"
   ]
  },
  {
   "cell_type": "code",
   "execution_count": 39,
   "metadata": {},
   "outputs": [],
   "source": [
    "test_data_labels = [0 if v < 0.5 else 1 for v in predict_test]"
   ]
  },
  {
   "cell_type": "code",
   "execution_count": 40,
   "metadata": {},
   "outputs": [
    {
     "data": {
      "text/plain": [
       "(1898, 6000)"
      ]
     },
     "execution_count": 40,
     "metadata": {},
     "output_type": "execute_result"
    }
   ],
   "source": [
    "sum(test_data_labels), len(test_data_labels)"
   ]
  },
  {
   "cell_type": "markdown",
   "metadata": {},
   "source": [
    "## 保存结果"
   ]
  },
  {
   "cell_type": "code",
   "execution_count": 33,
   "metadata": {},
   "outputs": [],
   "source": [
    "# result = []\n",
    "# for pt, label in zip(test_path, test_data_labels):\n",
    "#     _, ha = os.path.split(pt)\n",
    "#     result.append(\"{0}, {1}\\n\".format(ha, label))\n",
    "# with open(\"./result/malware2.txt_{}_cfg_{}\".format(time.strftime(\"%m-%d-%H:%M:%S\", time.localtime()), 0.9817), 'w') as f:\n",
    "#     f.write(''.join(result).strip())"
   ]
  },
  {
   "cell_type": "markdown",
   "metadata": {},
   "source": [
    "## 输出模型结果"
   ]
  },
  {
   "cell_type": "code",
   "execution_count": 10,
   "metadata": {},
   "outputs": [],
   "source": [
    "with open(\"cfg/train_fn.pkl\", 'rb') as f:\n",
    "    train_fn = pickle.load(f)\n",
    "\n",
    "with open(\"cfg/train_label.pkl\", 'rb') as f:\n",
    "    train_label = pickle.load(f)\n",
    "\n",
    "with open(\"cfg/test_data_fn.pkl\", 'rb') as f:\n",
    "    test_data_fn = pickle.load(f)\n",
    "\n",
    "with open(\"cfg/real_data_fn.pkl\", 'rb') as f:\n",
    "    real_data_fn = pickle.load(f)"
   ]
  },
  {
   "cell_type": "code",
   "execution_count": 11,
   "metadata": {},
   "outputs": [],
   "source": [
    "train_fn = [fn.split(b' ') for fn in train_fn]\n",
    "test_data_fn = [fn.split(b' ') for fn in test_data_fn]\n",
    "real_data_fn = [fn.split(b' ') for fn in real_data_fn]\n",
    "\n",
    "with open(\"cfg/tokenizer.pkl\", 'rb') as f:\n",
    "    tokenizer = pickle.load(f)\n",
    "\n",
    "word_index = tokenizer.word_index\n",
    "WORD_SIZE = len(word_index) + 1\n",
    "MAXLEN = 5000\n",
    "    \n",
    "train_fn = tokenizer.texts_to_sequences(train_fn)\n",
    "train_fn = tf.keras.preprocessing.sequence.pad_sequences(train_fn, maxlen=MAXLEN)\n",
    "\n",
    "test_data_fn = tokenizer.texts_to_sequences(test_data_fn)\n",
    "test_data_fn = tf.keras.preprocessing.sequence.pad_sequences(test_data_fn, maxlen=MAXLEN)\n",
    "\n",
    "real_data_fn = tokenizer.texts_to_sequences(real_data_fn)\n",
    "real_data_fn = tf.keras.preprocessing.sequence.pad_sequences(real_data_fn, maxlen=MAXLEN)"
   ]
  },
  {
   "cell_type": "code",
   "execution_count": 14,
   "metadata": {},
   "outputs": [],
   "source": [
    "cfg_textcnn_train = model.predict(train_fn)\n",
    "cfg_textcnn_test = model.predict(test_data_fn)\n",
    "cfg_textcnn_real = model.predict(real_data_fn)"
   ]
  },
  {
   "cell_type": "code",
   "execution_count": 15,
   "metadata": {},
   "outputs": [
    {
     "data": {
      "text/plain": [
       "((6000, 1), (6000, 1), (9017, 1))"
      ]
     },
     "execution_count": 15,
     "metadata": {},
     "output_type": "execute_result"
    }
   ],
   "source": [
    "cfg_textcnn_train.shape, cfg_textcnn_test.shape, cfg_textcnn_real.shape"
   ]
  },
  {
   "cell_type": "code",
   "execution_count": 16,
   "metadata": {},
   "outputs": [],
   "source": [
    "with open(\"cfg/cfg_textcnn_train_old.csv\", \"wb\") as fp:\n",
    "    pickle.dump(cfg_textcnn_train, fp)\n",
    "with open(\"cfg/cfg_textcnn_test_old.csv\", \"wb\") as fp:\n",
    "    pickle.dump(cfg_textcnn_test, fp)\n",
    "with open(\"cfg/cfg_textcnn_real_old.csv\", \"wb\") as fp:\n",
    "    pickle.dump(cfg_textcnn_real, fp)"
   ]
  },
  {
   "cell_type": "code",
   "execution_count": 17,
   "metadata": {},
   "outputs": [
    {
     "data": {
      "text/plain": [
       "1856"
      ]
     },
     "execution_count": 17,
     "metadata": {},
     "output_type": "execute_result"
    }
   ],
   "source": [
    "sum([0 if v < 0.5 else 1 for v in cfg_textcnn_test])"
   ]
  },
  {
   "cell_type": "code",
   "execution_count": 18,
   "metadata": {},
   "outputs": [
    {
     "data": {
      "text/plain": [
       "2515"
      ]
     },
     "execution_count": 18,
     "metadata": {},
     "output_type": "execute_result"
    }
   ],
   "source": [
    "sum([0 if v < 0.5 else 1 for v in cfg_textcnn_real])"
   ]
  },
  {
   "cell_type": "code",
   "execution_count": null,
   "metadata": {},
   "outputs": [],
   "source": []
  }
 ],
 "metadata": {
  "kernelspec": {
   "display_name": "datacon",
   "language": "python",
   "name": "datacon"
  },
  "language_info": {
   "codemirror_mode": {
    "name": "ipython",
    "version": 3
   },
   "file_extension": ".py",
   "mimetype": "text/x-python",
   "name": "python",
   "nbconvert_exporter": "python",
   "pygments_lexer": "ipython3",
   "version": "3.7.7"
  }
 },
 "nbformat": 4,
 "nbformat_minor": 4
}