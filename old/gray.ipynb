{
 "cells": [
  {
   "cell_type": "code",
   "execution_count": 1,
   "metadata": {},
   "outputs": [],
   "source": [
    "import os\n",
    "import numpy\n",
    "import time\n",
    "import signal\n",
    "import binascii\n",
    "import threading\n",
    "import subprocess\n",
    "from PIL import Image\n",
    "from tqdm import tqdm\n",
    "import numpy as np\n",
    "import pandas as pd\n",
    "import matplotlib.pyplot as plt\n",
    "import pickle\n",
    "\n",
    "from sklearn.metrics import accuracy_score, f1_score, precision_score, recall_score\n",
    "from sklearn.model_selection import train_test_split\n",
    "\n",
    "import tensorflow as tf\n",
    "from tensorflow.keras import layers, models\n",
    "from tensorflow.keras.preprocessing.image import ImageDataGenerator\n",
    "\n",
    "from raw_features import ByteHistogram, ByteEntropyHistogram\n",
    "\n",
    "%matplotlib inline"
   ]
  },
  {
   "cell_type": "markdown",
   "metadata": {},
   "source": [
    "## 读取数据地址"
   ]
  },
  {
   "cell_type": "code",
   "execution_count": 2,
   "metadata": {},
   "outputs": [],
   "source": [
    "data_dir = \"../data_rec_mzpe\"\n",
    "os.environ[\"CUDA_VISIBLE_DEVICES\"] = '0'"
   ]
  },
  {
   "cell_type": "code",
   "execution_count": 3,
   "metadata": {},
   "outputs": [],
   "source": [
    "# train_black_path = []\n",
    "# for parent, dirnames, filenames in os.walk(os.path.join(data_dir, \"train\")):\n",
    "#     if \"black\" in parent:\n",
    "#         for filename in filenames:\n",
    "#             fp = os.path.join(parent, filename)\n",
    "#             train_black_path.append(os.path.abspath(fp))\n",
    "\n",
    "# train_white_path = []\n",
    "# for parent, dirnames, filenames in os.walk(os.path.join(data_dir, \"train\")):\n",
    "#     if \"white\" in parent:\n",
    "#         for filename in filenames:\n",
    "#             fp = os.path.join(parent, filename)\n",
    "#             train_white_path.append(os.path.abspath(fp))\n",
    "\n",
    "# test_path = []\n",
    "# for parent, dirnames, filenames in os.walk(os.path.join(data_dir, \"test\")):\n",
    "#     for filename in filenames:\n",
    "#         fp = os.path.join(parent, filename)\n",
    "#         test_path.append(os.path.abspath(fp))\n",
    "\n",
    "# real_path = []\n",
    "# for parent, dirnames, filenames in os.walk(os.path.join(data_dir, \"real\")):\n",
    "#     if \"1_data_real\" in parent:\n",
    "#         for filename in filenames:\n",
    "#             fp = os.path.join(parent, filename)\n",
    "#             real_path.append(os.path.abspath(fp))\n",
    "\n",
    "# with open(\"train_black_path.pkl\", 'wb') as f:\n",
    "#     pickle.dump(train_black_path, f)\n",
    "\n",
    "# with open(\"train_white_path.pkl\", 'wb') as f:\n",
    "#     pickle.dump(train_white_path, f)\n",
    "\n",
    "# with open(\"test_path.pkl\", 'wb') as f:\n",
    "#     pickle.dump(test_path, f)\n",
    "\n",
    "# with open(\"real_path.pkl\", 'wb') as f:\n",
    "#     pickle.dump(real_path, f)\n",
    "\n",
    "with open(\"train_black_path.pkl\", 'rb') as f:\n",
    "    train_black_path = pickle.load(f)\n",
    "\n",
    "with open(\"train_white_path.pkl\", 'rb') as f:\n",
    "    train_white_path = pickle.load(f)\n",
    "\n",
    "with open(\"test_path.pkl\", 'rb') as f:\n",
    "    test_path = pickle.load(f)\n",
    "\n",
    "with open(\"real_path.pkl\", 'rb') as f:\n",
    "    real_path = pickle.load(f)"
   ]
  },
  {
   "cell_type": "markdown",
   "metadata": {},
   "source": [
    "拷贝一份"
   ]
  },
  {
   "cell_type": "code",
   "execution_count": 4,
   "metadata": {},
   "outputs": [],
   "source": [
    "# if not os.path.exists(\"gray\"):\n",
    "#     os.makedirs(\"gray/black\")\n",
    "#     os.makedirs(\"gray/white\")\n",
    "#     os.makedirs(\"gray/test\")\n",
    "#     os.makedirs(\"gray/real\")\n",
    "\n",
    "# for pt in train_black_path:\n",
    "#     os.system(\"cp {0} {1}\".format(pt, \"gray/black/\"))\n",
    "# for pt in train_white_path:\n",
    "#     os.system(\"cp {0} {1}\".format(pt, \"gray/white/\"))\n",
    "# for pt in test_path:\n",
    "#     os.system(\"cp {0} {1}\".format(pt, \"gray/test/\"))\n",
    "# for pt in real_path[6007:]:\n",
    "#     os.system(\"cp {0} {1}\".format(pt, \"gray/real/\"))\n",
    "\n",
    "train_black_path = [pt.replace(\"data_rec_mzpe/train/1_2000_\", \"jupyterlab/gray/\") for pt in train_black_path]\n",
    "train_white_path = [pt.replace(\"data_rec_mzpe/train/1_4000_\", \"jupyterlab/gray/\") for pt in train_white_path]\n",
    "test_path = [pt.replace(\"data_rec_mzpe/test/data\", \"jupyterlab/gray/test\") for pt in test_path]\n",
    "real_path = [pt.replace(\"data_rec_mzpe/real/1_data_real\", \"jupyterlab/gray/real\") for pt in real_path]\n",
    "real_path = [pt.replace(\"data_rec_mzpe/real/2_data_real\", \"jupyterlab/gray/real\") for pt in real_path]\n",
    "real_path = [pt.replace(\"data_rec_mzpe/real/3_data_real\", \"jupyterlab/gray/real\") for pt in real_path]"
   ]
  },
  {
   "cell_type": "markdown",
   "metadata": {},
   "source": [
    "## 提取灰度图信息"
   ]
  },
  {
   "cell_type": "code",
   "execution_count": 6,
   "metadata": {},
   "outputs": [],
   "source": [
    "empty = threading.Semaphore(value=20)\n",
    "\n",
    "def getMatrixfrom_bin(filename, width):  #生成灰度图\n",
    "    with open(filename, 'rb') as f:\n",
    "        content = f.read()\n",
    "    hexst = binascii.hexlify(content)  #将二进制文件转换为十六进制字符串\n",
    "    fh = numpy.array(\n",
    "        [int(hexst[i:i + 2], 16) for i in range(0, len(hexst), 2)])  #按字节分割\n",
    "    rn = int(len(fh) / width)\n",
    "    fh = numpy.reshape(fh[:rn * width], (-1, width))  #根据设定的宽度生成矩阵\n",
    "    fh = numpy.uint8(fh)\n",
    "    return fh\n",
    "\n",
    "def generate_gray(fp):\n",
    "    filename = fp\n",
    "    try:\n",
    "        im = Image.fromarray(getMatrixfrom_bin(filename, 512))  #转换为图像\n",
    "        im = im.resize((512, 512))\n",
    "        PNG = filename + '.png'\n",
    "        im.save(PNG)\n",
    "    except Exception as e:\n",
    "        pass\n",
    "    os.remove(fp)\n",
    "\n",
    "    empty.release()"
   ]
  },
  {
   "cell_type": "code",
   "execution_count": 7,
   "metadata": {},
   "outputs": [
    {
     "name": "stderr",
     "output_type": "stream",
     "text": [
      "gray: 100%|█████████████████████████████████| 3010/3010 [41:53<00:00,  1.20it/s]\n"
     ]
    }
   ],
   "source": [
    "# with tqdm(total=6000, ncols=80, desc=\"gray\") as pbar:\n",
    "#     for fp in train_black_path:\n",
    "#         empty.acquire()\n",
    "#         t = threading.Thread(target=generate_gray, args=(fp, ), daemon=True)\n",
    "#         t.start()\n",
    "#         pbar.update(1)\n",
    "#     for fp in train_white_path:\n",
    "#         empty.acquire()\n",
    "#         t = threading.Thread(target=generate_gray, args=(fp, ), daemon=True)\n",
    "#         t.start()\n",
    "#         pbar.update(1)\n",
    "\n",
    "# with tqdm(total=6000, ncols=80, desc=\"gray\") as pbar:\n",
    "#     for fp in test_path:\n",
    "#         empty.acquire()\n",
    "#         t = threading.Thread(target=generate_gray, args=(fp, ), daemon=True)\n",
    "#         t.start()\n",
    "#         pbar.update(1)\n",
    "\n",
    "with tqdm(total=len(real_path[6007:]), ncols=80, desc=\"gray\") as pbar:\n",
    "    for fp in real_path[6007:]:\n",
    "        empty.acquire()\n",
    "        t = threading.Thread(target=generate_gray, args=(fp, ), daemon=True)\n",
    "        t.start()\n",
    "        pbar.update(1)"
   ]
  },
  {
   "cell_type": "markdown",
   "metadata": {},
   "source": [
    "## 读取直方图数据和打标"
   ]
  },
  {
   "cell_type": "code",
   "execution_count": 5,
   "metadata": {},
   "outputs": [
    {
     "name": "stderr",
     "output_type": "stream",
     "text": [
      "gray: 100%|██████████████████████████████| 21017/21017 [01:09<00:00, 302.95it/s]\n"
     ]
    }
   ],
   "source": [
    "raw_data, raw_labels = [], []\n",
    "\n",
    "test_data_feature, real_data_feature = [], []\n",
    "\n",
    "with tqdm(total=6000*2 + len(real_path), ncols=80, desc=\"gray\") as pbar:\n",
    "    for fp in train_black_path:\n",
    "        image = Image.open(fp+'.png')\n",
    "        image_data = np.array(image)\n",
    "        raw_data.append(image_data)\n",
    "        raw_labels.append(1)\n",
    "        pbar.update(1)\n",
    "    for fp in train_white_path:\n",
    "        image = Image.open(fp+'.png')\n",
    "        image_data = np.array(image)\n",
    "        raw_data.append(image_data)\n",
    "        raw_labels.append(0)\n",
    "        pbar.update(1)\n",
    "    for fp in test_path:\n",
    "        image = Image.open(fp+'.png')\n",
    "        image_data = np.array(image)\n",
    "        test_data_feature.append(image_data)\n",
    "        pbar.update(1)\n",
    "    for fp in real_path:\n",
    "        image = Image.open(fp+'.png')\n",
    "        image_data = np.array(image)\n",
    "        real_data_feature.append(image_data)\n",
    "        pbar.update(1)"
   ]
  },
  {
   "cell_type": "markdown",
   "metadata": {},
   "source": [
    "## 超参数"
   ]
  },
  {
   "cell_type": "code",
   "execution_count": 6,
   "metadata": {},
   "outputs": [],
   "source": [
    "TRAIN_SIZE = 0.8\n",
    "VAL_SIZE = 0.1\n",
    "TEST_SIZE = 0.1\n",
    "SEED = 4396\n",
    "\n",
    "WIDTH, HEIGHT = 512, 512\n",
    "BATCH_SIZE = 32\n",
    "EPOCH = 300\n",
    "SHUFFLE = False\n",
    "CLASSES = 2\n",
    "\n",
    "LR = 1e-5"
   ]
  },
  {
   "cell_type": "markdown",
   "metadata": {},
   "source": [
    "## 打乱顺序"
   ]
  },
  {
   "cell_type": "code",
   "execution_count": 7,
   "metadata": {},
   "outputs": [],
   "source": [
    "np.random.seed(SEED)\n",
    "tf.random.set_seed(SEED)\n",
    "\n",
    "img_data, labels = np.array(raw_data, dtype=np.float32), np.array(raw_labels, dtype=np.int32)\n",
    "\n",
    "index = list(range(len(labels)))\n",
    "np.random.shuffle(index)\n",
    "\n",
    "img_data = img_data[index]\n",
    "labels = labels[index]"
   ]
  },
  {
   "cell_type": "markdown",
   "metadata": {},
   "source": [
    "## 划分数据集"
   ]
  },
  {
   "cell_type": "code",
   "execution_count": 14,
   "metadata": {},
   "outputs": [],
   "source": [
    "train_image, test_image, train_label, test_label = train_test_split(\n",
    "    img_data,\n",
    "    labels,\n",
    "    test_size=TEST_SIZE,\n",
    "    stratify=labels,\n",
    "    random_state=SEED)\n",
    "train_image, valid_image, train_label, valid_label = train_test_split(\n",
    "    train_image,\n",
    "    train_label,\n",
    "    test_size=VAL_SIZE,\n",
    "    stratify=train_label,\n",
    "    random_state=SEED)"
   ]
  },
  {
   "cell_type": "markdown",
   "metadata": {},
   "source": [
    "## 加载Dataset"
   ]
  },
  {
   "cell_type": "code",
   "execution_count": 15,
   "metadata": {},
   "outputs": [],
   "source": [
    "train_ds = tf.data.Dataset.from_tensor_slices((train_image, train_label)) \\\n",
    "                            .batch(BATCH_SIZE) \\\n",
    "                            .prefetch(buffer_size = tf.data.experimental.AUTOTUNE)\n",
    "\n",
    "valid_ds = tf.data.Dataset.from_tensor_slices((valid_image, valid_label)) \\\n",
    "                            .batch(BATCH_SIZE) \\\n",
    "                            .prefetch(buffer_size = tf.data.experimental.AUTOTUNE)\n",
    "\n",
    "test_ds = tf.data.Dataset.from_tensor_slices((test_image, test_label)) \\\n",
    "                            .batch(BATCH_SIZE) \\\n",
    "                            .prefetch(buffer_size = tf.data.experimental.AUTOTUNE)"
   ]
  },
  {
   "cell_type": "markdown",
   "metadata": {},
   "source": [
    "## 构建模型"
   ]
  },
  {
   "cell_type": "code",
   "execution_count": 29,
   "metadata": {},
   "outputs": [],
   "source": [
    "# 构建模型\n",
    "inputs = layers.Input(shape=(WIDTH, HEIGHT), dtype='float32')\n",
    "inputs_re = tf.reshape(inputs, (-1, WIDTH, HEIGHT, 1))\n",
    "Conv_1 = layers.Convolution2D(30, (3, 3),\n",
    "                              strides=2,\n",
    "                              padding='same',\n",
    "                              activation='relu')(inputs_re)\n",
    "Max_pool_1 = layers.MaxPooling2D((2, 2), strides=2)(Conv_1)\n",
    "Conv_2 = layers.Convolution2D(50, (3, 3),\n",
    "                              strides=2,\n",
    "                              padding='same',\n",
    "                              activation='relu')(Max_pool_1)\n",
    "Max_pool_2 = layers.MaxPooling2D((2, 2), strides=2)(Conv_2)\n",
    "Conv_3 = layers.Convolution2D(100, (3, 3),\n",
    "                              strides=2,\n",
    "                              padding='same',\n",
    "                              activation='relu')(Max_pool_2)\n",
    "Max_pool_3 = layers.MaxPooling2D((2, 2), strides=2)(Conv_3)\n",
    "Flat = layers.Flatten()(Max_pool_3)\n",
    "Dense_1 = layers.Dense(500, activation='tanh')(Flat)\n",
    "dropout = layers.Dropout(0.5)(Dense_1)\n",
    "outputs = layers.Dense(1, activation='sigmoid')(dropout)\n",
    "\n",
    "\n",
    "model = models.Model(inputs=inputs, outputs=outputs)"
   ]
  },
  {
   "cell_type": "code",
   "execution_count": 30,
   "metadata": {},
   "outputs": [],
   "source": [
    "# 自定义评估指标\n",
    "def score(y_true, y_pred):\n",
    "    y_true = tf.cast(tf.reshape(y_true, (-1,)), tf.int32)\n",
    "    y_pred = tf.cast(tf.math.round(tf.reshape(y_pred, (-1,))), tf.int32)\n",
    "\n",
    "    tp = tf.reduce_sum(tf.cast(tf.logical_and(tf.equal(y_true, 1), tf.equal(y_pred, 1)), dtype=tf.float32))\n",
    "    fn = tf.reduce_sum(tf.cast(tf.logical_and(tf.equal(y_true, 1), tf.equal(y_pred, 0)), dtype=tf.float32))\n",
    "    fp = tf.reduce_sum(tf.cast(tf.logical_and(tf.equal(y_true, 0), tf.equal(y_pred, 1)), dtype=tf.float32))\n",
    "    tn = tf.reduce_sum(tf.cast(tf.logical_and(tf.equal(y_true, 0), tf.equal(y_pred, 0)), dtype=tf.float32))\n",
    "\n",
    "    result = (tp/(tp+fn)) - 0.9*(fp/(fp+tn))\n",
    "    \n",
    "    return result\n",
    "\n",
    "model.compile(optimizer=tf.keras.optimizers.Nadam(LR),\n",
    "                loss='binary_crossentropy',\n",
    "                metrics=['accuracy'])"
   ]
  },
  {
   "cell_type": "code",
   "execution_count": 31,
   "metadata": {},
   "outputs": [
    {
     "name": "stdout",
     "output_type": "stream",
     "text": [
      "Model: \"model_1\"\n",
      "_________________________________________________________________\n",
      "Layer (type)                 Output Shape              Param #   \n",
      "=================================================================\n",
      "input_2 (InputLayer)         [(None, 512, 512)]        0         \n",
      "_________________________________________________________________\n",
      "tf_op_layer_Reshape_1 (Tenso [(None, 512, 512, 1)]     0         \n",
      "_________________________________________________________________\n",
      "conv2d_3 (Conv2D)            (None, 256, 256, 30)      300       \n",
      "_________________________________________________________________\n",
      "max_pooling2d_3 (MaxPooling2 (None, 128, 128, 30)      0         \n",
      "_________________________________________________________________\n",
      "conv2d_4 (Conv2D)            (None, 64, 64, 50)        13550     \n",
      "_________________________________________________________________\n",
      "max_pooling2d_4 (MaxPooling2 (None, 32, 32, 50)        0         \n",
      "_________________________________________________________________\n",
      "conv2d_5 (Conv2D)            (None, 16, 16, 100)       45100     \n",
      "_________________________________________________________________\n",
      "max_pooling2d_5 (MaxPooling2 (None, 8, 8, 100)         0         \n",
      "_________________________________________________________________\n",
      "flatten_1 (Flatten)          (None, 6400)              0         \n",
      "_________________________________________________________________\n",
      "dense_2 (Dense)              (None, 500)               3200500   \n",
      "_________________________________________________________________\n",
      "dropout_1 (Dropout)          (None, 500)               0         \n",
      "_________________________________________________________________\n",
      "dense_3 (Dense)              (None, 1)                 501       \n",
      "=================================================================\n",
      "Total params: 3,259,951\n",
      "Trainable params: 3,259,951\n",
      "Non-trainable params: 0\n",
      "_________________________________________________________________\n"
     ]
    }
   ],
   "source": [
    "model.summary()"
   ]
  },
  {
   "cell_type": "markdown",
   "metadata": {},
   "source": [
    "## 训练"
   ]
  },
  {
   "cell_type": "code",
   "execution_count": 32,
   "metadata": {},
   "outputs": [
    {
     "name": "stdout",
     "output_type": "stream",
     "text": [
      "Epoch 1/300\n",
      "152/152 [==============================] - 9s 56ms/step - loss: 0.2638 - accuracy: 0.9187 - val_loss: 0.1581 - val_accuracy: 0.9574 - lr: 1.0000e-05\n",
      "Epoch 2/300\n",
      "152/152 [==============================] - 8s 52ms/step - loss: 0.2052 - accuracy: 0.9426 - val_loss: 0.1491 - val_accuracy: 0.9593 - lr: 1.0000e-05\n",
      "Epoch 3/300\n",
      "152/152 [==============================] - 8s 52ms/step - loss: 0.2020 - accuracy: 0.9467 - val_loss: 0.1443 - val_accuracy: 0.9593 - lr: 1.0000e-05\n",
      "Epoch 4/300\n",
      "152/152 [==============================] - 8s 54ms/step - loss: 0.1973 - accuracy: 0.9453 - val_loss: 0.1392 - val_accuracy: 0.9593 - lr: 1.0000e-05\n",
      "Epoch 5/300\n",
      "152/152 [==============================] - 8s 52ms/step - loss: 0.1793 - accuracy: 0.9473 - val_loss: 0.1317 - val_accuracy: 0.9593 - lr: 1.0000e-05\n",
      "Epoch 6/300\n",
      "152/152 [==============================] - 9s 59ms/step - loss: 0.1791 - accuracy: 0.9467 - val_loss: 0.1287 - val_accuracy: 0.9593 - lr: 1.0000e-05\n",
      "Epoch 7/300\n",
      "152/152 [==============================] - 8s 52ms/step - loss: 0.1794 - accuracy: 0.9484 - val_loss: 0.1276 - val_accuracy: 0.9593 - lr: 1.0000e-05\n",
      "Epoch 8/300\n",
      "152/152 [==============================] - 8s 53ms/step - loss: 0.1693 - accuracy: 0.9479 - val_loss: 0.1227 - val_accuracy: 0.9593 - lr: 1.0000e-05\n",
      "Epoch 9/300\n",
      "152/152 [==============================] - 9s 57ms/step - loss: 0.1706 - accuracy: 0.9506 - val_loss: 0.1225 - val_accuracy: 0.9593 - lr: 1.0000e-05\n",
      "Epoch 10/300\n",
      "152/152 [==============================] - 8s 52ms/step - loss: 0.1649 - accuracy: 0.9525 - val_loss: 0.1184 - val_accuracy: 0.9593 - lr: 1.0000e-05\n",
      "Epoch 11/300\n",
      "152/152 [==============================] - 8s 55ms/step - loss: 0.1611 - accuracy: 0.9514 - val_loss: 0.1225 - val_accuracy: 0.9611 - lr: 1.0000e-05\n",
      "Epoch 12/300\n",
      "152/152 [==============================] - 9s 57ms/step - loss: 0.1611 - accuracy: 0.9510 - val_loss: 0.1192 - val_accuracy: 0.9611 - lr: 1.0000e-05\n",
      "Epoch 13/300\n",
      "152/152 [==============================] - 8s 54ms/step - loss: 0.1603 - accuracy: 0.9539 - val_loss: 0.1198 - val_accuracy: 0.9667 - lr: 1.0000e-05\n",
      "Epoch 14/300\n",
      "152/152 [==============================] - 8s 52ms/step - loss: 0.1580 - accuracy: 0.9535 - val_loss: 0.1182 - val_accuracy: 0.9704 - lr: 1.0000e-05\n",
      "Epoch 15/300\n",
      "152/152 [==============================] - 8s 51ms/step - loss: 0.1456 - accuracy: 0.9535 - val_loss: 0.1201 - val_accuracy: 0.9704 - lr: 1.0000e-05\n",
      "Epoch 16/300\n",
      "152/152 [==============================] - 8s 53ms/step - loss: 0.1491 - accuracy: 0.9547 - val_loss: 0.1138 - val_accuracy: 0.9704 - lr: 1.0000e-05\n",
      "Epoch 17/300\n",
      "152/152 [==============================] - 8s 51ms/step - loss: 0.1364 - accuracy: 0.9570 - val_loss: 0.1191 - val_accuracy: 0.9704 - lr: 1.0000e-05\n",
      "Epoch 18/300\n",
      "152/152 [==============================] - 8s 52ms/step - loss: 0.1456 - accuracy: 0.9553 - val_loss: 0.1175 - val_accuracy: 0.9704 - lr: 1.0000e-05\n",
      "Epoch 19/300\n",
      "152/152 [==============================] - 9s 58ms/step - loss: 0.1448 - accuracy: 0.9568 - val_loss: 0.1132 - val_accuracy: 0.9704 - lr: 1.0000e-05\n",
      "Epoch 20/300\n",
      "152/152 [==============================] - 8s 54ms/step - loss: 0.1383 - accuracy: 0.9586 - val_loss: 0.1156 - val_accuracy: 0.9704 - lr: 1.0000e-05\n",
      "Epoch 21/300\n",
      "152/152 [==============================] - 8s 55ms/step - loss: 0.1339 - accuracy: 0.9553 - val_loss: 0.1117 - val_accuracy: 0.9704 - lr: 1.0000e-05\n",
      "Epoch 22/300\n",
      "152/152 [==============================] - 8s 56ms/step - loss: 0.1351 - accuracy: 0.9562 - val_loss: 0.1125 - val_accuracy: 0.9704 - lr: 1.0000e-05\n",
      "Epoch 23/300\n",
      "152/152 [==============================] - 9s 57ms/step - loss: 0.1341 - accuracy: 0.9566 - val_loss: 0.1128 - val_accuracy: 0.9704 - lr: 1.0000e-05\n",
      "Epoch 24/300\n",
      "152/152 [==============================] - 8s 54ms/step - loss: 0.1373 - accuracy: 0.9556 - val_loss: 0.1132 - val_accuracy: 0.9704 - lr: 1.0000e-05\n",
      "Epoch 25/300\n",
      "152/152 [==============================] - 8s 51ms/step - loss: 0.1273 - accuracy: 0.9605 - val_loss: 0.1127 - val_accuracy: 0.9704 - lr: 1.0000e-05\n",
      "Epoch 26/300\n",
      "152/152 [==============================] - 8s 52ms/step - loss: 0.1265 - accuracy: 0.9605 - val_loss: 0.1114 - val_accuracy: 0.9704 - lr: 5.0000e-06\n",
      "Epoch 27/300\n",
      "152/152 [==============================] - 9s 57ms/step - loss: 0.1256 - accuracy: 0.9599 - val_loss: 0.1097 - val_accuracy: 0.9704 - lr: 5.0000e-06\n",
      "Epoch 28/300\n",
      "152/152 [==============================] - 8s 50ms/step - loss: 0.1150 - accuracy: 0.9630 - val_loss: 0.1101 - val_accuracy: 0.9704 - lr: 5.0000e-06\n",
      "Epoch 29/300\n",
      "152/152 [==============================] - 8s 52ms/step - loss: 0.1170 - accuracy: 0.9593 - val_loss: 0.1106 - val_accuracy: 0.9704 - lr: 5.0000e-06\n",
      "Epoch 30/300\n",
      "152/152 [==============================] - 8s 55ms/step - loss: 0.1168 - accuracy: 0.9623 - val_loss: 0.1120 - val_accuracy: 0.9704 - lr: 5.0000e-06\n",
      "Epoch 31/300\n",
      "152/152 [==============================] - 8s 51ms/step - loss: 0.1165 - accuracy: 0.9619 - val_loss: 0.1103 - val_accuracy: 0.9704 - lr: 5.0000e-06\n",
      "Epoch 32/300\n",
      "152/152 [==============================] - 8s 52ms/step - loss: 0.1105 - accuracy: 0.9638 - val_loss: 0.1111 - val_accuracy: 0.9704 - lr: 2.5000e-06\n",
      "Epoch 33/300\n",
      "152/152 [==============================] - 8s 55ms/step - loss: 0.1097 - accuracy: 0.9621 - val_loss: 0.1128 - val_accuracy: 0.9704 - lr: 2.5000e-06\n",
      "Epoch 34/300\n",
      "152/152 [==============================] - 8s 54ms/step - loss: 0.1052 - accuracy: 0.9646 - val_loss: 0.1124 - val_accuracy: 0.9704 - lr: 2.5000e-06\n"
     ]
    }
   ],
   "source": [
    "history = model.fit(\n",
    "        train_ds,\n",
    "        validation_data=valid_ds,\n",
    "        # class_weight=class_weight_dict,\n",
    "        epochs=EPOCH,\n",
    "        workers=4,\n",
    "        callbacks=[tf.keras.callbacks.EarlyStopping(monitor='val_loss', patience=7, min_delta=1e-4, mode='min'),\n",
    "                  tf.keras.callbacks.ReduceLROnPlateau(monitor='val_loss', patience=4, factor=0.5, verbose=0)])"
   ]
  },
  {
   "cell_type": "code",
   "execution_count": 33,
   "metadata": {},
   "outputs": [],
   "source": [
    "dfhistory = pd.DataFrame(history.history)"
   ]
  },
  {
   "cell_type": "code",
   "execution_count": 34,
   "metadata": {},
   "outputs": [
    {
     "data": {
      "text/plain": [
       "<matplotlib.axes._subplots.AxesSubplot at 0x7f9105d49350>"
      ]
     },
     "execution_count": 34,
     "metadata": {},
     "output_type": "execute_result"
    },
    {
     "data": {
      "image/png": "[encoded data removed]",
      "text/plain": [
       "<Figure size 432x288 with 1 Axes>"
      ]
     },
     "metadata": {
      "needs_background": "light"
     },
     "output_type": "display_data"
    }
   ],
   "source": [
    "dfhistory[['val_loss', 'loss']].plot()"
   ]
  },
  {
   "cell_type": "code",
   "execution_count": 35,
   "metadata": {},
   "outputs": [
    {
     "data": {
      "text/plain": [
       "<matplotlib.axes._subplots.AxesSubplot at 0x7f905803d250>"
      ]
     },
     "execution_count": 35,
     "metadata": {},
     "output_type": "execute_result"
    },
    {
     "data": {
      "image/png": "[encoded data removed]",
      "text/plain": [
       "<Figure size 432x288 with 1 Axes>"
      ]
     },
     "metadata": {
      "needs_background": "light"
     },
     "output_type": "display_data"
    }
   ],
   "source": [
    "dfhistory[['val_accuracy', 'accuracy']].plot()"
   ]
  },
  {
   "cell_type": "code",
   "execution_count": 36,
   "metadata": {},
   "outputs": [],
   "source": [
    "# dfhistory[['val_score', 'score']].plot()"
   ]
  },
  {
   "cell_type": "markdown",
   "metadata": {},
   "source": [
    "## 测试集"
   ]
  },
  {
   "cell_type": "code",
   "execution_count": 14,
   "metadata": {},
   "outputs": [
    {
     "name": "stdout",
     "output_type": "stream",
     "text": [
      "188/188 [==============================] - 4s 23ms/step - loss: 0.0920 - accuracy: 0.9680\n"
     ]
    }
   ],
   "source": [
    "predict = model.evaluate(img_data, labels)"
   ]
  },
  {
   "cell_type": "code",
   "execution_count": 38,
   "metadata": {},
   "outputs": [],
   "source": [
    "# model.save('./gray/gray_0.97.h5', save_format=\"tf\")"
   ]
  },
  {
   "cell_type": "markdown",
   "metadata": {},
   "source": [
    "## 测试数据"
   ]
  },
  {
   "cell_type": "code",
   "execution_count": 12,
   "metadata": {},
   "outputs": [],
   "source": [
    "model = tf.keras.models.load_model('./gray/gray_0.97.h5')"
   ]
  },
  {
   "cell_type": "code",
   "execution_count": 40,
   "metadata": {},
   "outputs": [],
   "source": [
    "test_data_feature = np.array(test_data_feature)\n",
    "predict_test = model.predict(test_data_feature)"
   ]
  },
  {
   "cell_type": "code",
   "execution_count": 41,
   "metadata": {},
   "outputs": [],
   "source": [
    "test_data_labels = [0 if v < 0.5 else 1 for v in predict_test]"
   ]
  },
  {
   "cell_type": "code",
   "execution_count": 42,
   "metadata": {},
   "outputs": [
    {
     "data": {
      "text/plain": [
       "(1813, 6000)"
      ]
     },
     "execution_count": 42,
     "metadata": {},
     "output_type": "execute_result"
    }
   ],
   "source": [
    "sum(test_data_labels), len(test_data_labels)"
   ]
  },
  {
   "cell_type": "markdown",
   "metadata": {},
   "source": [
    "## 输出模型结果"
   ]
  },
  {
   "cell_type": "code",
   "execution_count": 5,
   "metadata": {},
   "outputs": [
    {
     "name": "stderr",
     "output_type": "stream",
     "text": [
      "gray: 100%|██████████████████████████████| 21017/21017 [01:04<00:00, 327.49it/s]\n"
     ]
    }
   ],
   "source": [
    "raw_data, raw_labels = [], []\n",
    "\n",
    "test_data_feature, real_data_feature = [], []\n",
    "\n",
    "with tqdm(total=6000*2 + len(real_path), ncols=80, desc=\"gray\") as pbar:\n",
    "    for fp in train_black_path:\n",
    "        image = Image.open(fp+'.png')\n",
    "        image_data = np.array(image)\n",
    "        raw_data.append(image_data)\n",
    "        raw_labels.append(1)\n",
    "        pbar.update(1)\n",
    "    for fp in train_white_path:\n",
    "        image = Image.open(fp+'.png')\n",
    "        image_data = np.array(image)\n",
    "        raw_data.append(image_data)\n",
    "        raw_labels.append(0)\n",
    "        pbar.update(1)\n",
    "    for fp in test_path:\n",
    "        image = Image.open(fp+'.png')\n",
    "        image_data = np.array(image)\n",
    "        test_data_feature.append(image_data)\n",
    "        pbar.update(1)\n",
    "    for fp in real_path:\n",
    "        image = Image.open(fp+'.png')\n",
    "        image_data = np.array(image)\n",
    "        real_data_feature.append(image_data)\n",
    "        pbar.update(1)\n",
    "raw_data, raw_labels = np.array(raw_data, dtype=np.float32), np.array(raw_labels, dtype=np.int32)\n",
    "test_data_feature, real_data_feature = np.array(test_data_feature, dtype=np.float32), np.array(real_data_feature, dtype=np.float32)"
   ]
  },
  {
   "cell_type": "code",
   "execution_count": 6,
   "metadata": {},
   "outputs": [],
   "source": [
    "model = tf.keras.models.load_model('./gray/gray_0.97.h5')"
   ]
  },
  {
   "cell_type": "code",
   "execution_count": 7,
   "metadata": {},
   "outputs": [],
   "source": [
    "gray_train = model.predict(raw_data)\n",
    "gray_test = model.predict(test_data_feature)\n",
    "gray_real = model.predict(real_data_feature)"
   ]
  },
  {
   "cell_type": "code",
   "execution_count": 8,
   "metadata": {},
   "outputs": [
    {
     "data": {
      "text/plain": [
       "((6000, 1), (6000, 1), (9017, 1))"
      ]
     },
     "execution_count": 8,
     "metadata": {},
     "output_type": "execute_result"
    }
   ],
   "source": [
    "gray_train.shape, gray_test.shape, gray_real.shape"
   ]
  },
  {
   "cell_type": "code",
   "execution_count": 9,
   "metadata": {},
   "outputs": [],
   "source": [
    "with open(\"gray/gray_train_old.csv\", \"wb\") as fp:\n",
    "    pickle.dump(gray_train, fp)\n",
    "with open(\"gray/gray_test_old.csv\", \"wb\") as fp:\n",
    "    pickle.dump(gray_test, fp)\n",
    "with open(\"gray/gray_real_old.csv\", \"wb\") as fp:\n",
    "    pickle.dump(gray_real, fp)"
   ]
  },
  {
   "cell_type": "code",
   "execution_count": 10,
   "metadata": {},
   "outputs": [
    {
     "data": {
      "text/plain": [
       "1813"
      ]
     },
     "execution_count": 10,
     "metadata": {},
     "output_type": "execute_result"
    }
   ],
   "source": [
    "sum([0 if v < 0.5 else 1 for v in gray_test])"
   ]
  },
  {
   "cell_type": "code",
   "execution_count": 11,
   "metadata": {},
   "outputs": [
    {
     "data": {
      "text/plain": [
       "2381"
      ]
     },
     "execution_count": 11,
     "metadata": {},
     "output_type": "execute_result"
    }
   ],
   "source": [
    "sum([0 if v < 0.5 else 1 for v in gray_real])"
   ]
  },
  {
   "cell_type": "code",
   "execution_count": null,
   "metadata": {},
   "outputs": [],
   "source": []
  }
 ],
 "metadata": {
  "kernelspec": {
   "display_name": "datacon",
   "language": "python",
   "name": "datacon"
  },
  "language_info": {
   "codemirror_mode": {
    "name": "ipython",
    "version": 3
   },
   "file_extension": ".py",
   "mimetype": "text/x-python",
   "name": "python",
   "nbconvert_exporter": "python",
   "pygments_lexer": "ipython3",
   "version": "3.7.7"
  }
 },
 "nbformat": 4,
 "nbformat_minor": 4
}